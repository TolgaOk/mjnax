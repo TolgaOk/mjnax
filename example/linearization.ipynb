{
 "cells": [
  {
   "cell_type": "markdown",
   "metadata": {},
   "source": [
    "### Linearization of the Pendulum model.\n"
   ]
  },
  {
   "cell_type": "code",
   "execution_count": null,
   "metadata": {},
   "outputs": [],
   "source": [
    "\n",
    "from typing import Tuple\n",
    "import os\n",
    "import jax\n",
    "import jax.numpy as jnp\n",
    "import chex\n",
    "import mujoco\n",
    "import mujoco.mjx as mjx\n",
    "\n",
    "import mjnax\n",
    "from mjnax.mjxenv import MjxStateType, MjxModelType\n",
    "\n",
    "\n",
    "# By default JAX set float types into float32. The line below enables\n",
    "# float64 data type.\n",
    "jax.config.update(\"jax_enable_x64\", True)\n",
    "\n",
    "\n",
    "@jax.jit\n",
    "def linearization(mjx_model: MjxModelType,\n",
    "                  mjx_state: MjxStateType,\n",
    "                  ctrl_input: chex.Array\n",
    "                  ) -> Tuple[chex.Array,\n",
    "                             chex.Array]:\n",
    "    \"\"\" Linearize \n",
    "\n",
    "    Args:\n",
    "        mjx_model (MjxModelType): mjx model\n",
    "        mjx_state (MjxStateType): mjx state\n",
    "        ctrl_input (chex.Array): ctrl input\n",
    "\n",
    "    Returns:\n",
    "        Tuple[chex.Array, chex.Array]:\n",
    "            - A matrix (derivative w.r.t state)\n",
    "            - B matrix (derivative w.r.t input)\n",
    "    \"\"\"\n",
    "    state = jnp.concatenate([mjx_state.qpos, mjx_state.qvel])\n",
    "    n_qpos = mjx_state.qpos.shape[0]\n",
    "\n",
    "    def step(state: chex.Array, ctrl_input: chex.Array) -> chex.Array:\n",
    "        \"\"\" Step function.\n",
    "\n",
    "        Args:\n",
    "            state (chex.Array): qpos and qvel\n",
    "            ctrl_input (chex.Array): control input\n",
    "\n",
    "        Returns:\n",
    "            chex.Array: next qpos and qvel\n",
    "        \"\"\"\n",
    "        qpos = state[:n_qpos]\n",
    "        qvel = state[n_qpos:]\n",
    "        _mjx_state = mjx_state.replace(ctrl=ctrl_input, qpos=qpos, qvel=qvel)\n",
    "        next_mjx_state = mjx.step(mjx_model, _mjx_state)\n",
    "        return jnp.concatenate([next_mjx_state.qpos, next_mjx_state.qvel])\n",
    "\n",
    "    # Create jacobian generating functions\n",
    "    jacobian_a = jax.jacobian(step, argnums=[0])\n",
    "    jacobian_b = jax.jacobian(step, argnums=[1])\n",
    "\n",
    "    # Calculate the jacobian matrices at the given state and input\n",
    "    a_matrix = jacobian_a(state, ctrl_input)\n",
    "    b_matrix = jacobian_b(state, ctrl_input)\n",
    "    return a_matrix, b_matrix"
   ]
  },
  {
   "cell_type": "markdown",
   "metadata": {},
   "source": [
    "> Compilation will take some time in the first run!\n",
    "\n",
    "### Linearize pendulum "
   ]
  },
  {
   "cell_type": "code",
   "execution_count": null,
   "metadata": {},
   "outputs": [],
   "source": [
    "pendulum_xml: str = \"assets/pendulum.xml\"\n",
    "absolute_path = os.path.join(mjnax.__path__[0], pendulum_xml)\n",
    "\n",
    "# Initiate the MJX model and state\n",
    "mj_model = mujoco.MjModel.from_xml_path(absolute_path)\n",
    "mjx_model = mjx.put_model(mj_model)\n",
    "mjx_state = mjx.make_data(mjx_model)\n",
    "\n",
    "# Set qpos to 0 (default is 30 degrees) and linearize\n",
    "mjx_state = mjx_state.replace(qpos=jnp.array([0.]))\n",
    "a_matrix, b_matrix = linearization(mjx_model, mjx_state, jnp.array([0.]))\n",
    "\n",
    "a_matrix, b_matrix"
   ]
  }
 ],
 "metadata": {
  "kernelspec": {
   "display_name": "jaxtor",
   "language": "python",
   "name": "python3"
  },
  "language_info": {
   "codemirror_mode": {
    "name": "ipython",
    "version": 3
   },
   "file_extension": ".py",
   "mimetype": "text/x-python",
   "name": "python",
   "nbconvert_exporter": "python",
   "pygments_lexer": "ipython3",
   "version": "3.11.5"
  }
 },
 "nbformat": 4,
 "nbformat_minor": 2
}
